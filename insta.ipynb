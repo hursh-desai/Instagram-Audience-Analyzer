{
 "cells": [
  {
   "cell_type": "code",
   "execution_count": 1,
   "metadata": {},
   "outputs": [
    {
     "name": "stdout",
     "output_type": "stream",
     "text": [
      "Fail to import moviepy. Need only for Video upload.\n"
     ]
    }
   ],
   "source": [
    "from InstagramAPI import InstagramAPI"
   ]
  },
  {
   "cell_type": "code",
   "execution_count": 2,
   "metadata": {},
   "outputs": [],
   "source": [
    "# Gets ID using username\n",
    "def get_ID(username):\n",
    "    api.searchUsername(username)\n",
    "    info = api.LastJson\n",
    "    username_id = info['user']['pk']\n",
    "    return username_id\n",
    "\n",
    "# ------------------------------------------------------------------------------------------------------------------------------------------------------------\n",
    "\n",
    "# Searches thing using given key, if key is in thing then it will return True else it will return False\n",
    "def search(thing, key):\n",
    "    for i in thing:\n",
    "        if i == key:\n",
    "            return True\n",
    "    return False \n",
    "\n",
    "# ------------------------------------------------------------------------------------------------------------------------------------------------------------\n",
    "\n",
    "# Returns number of people that you follow\n",
    "def get_follower_count(username):\n",
    "    api.searchUsername(username)\n",
    "    info = api.LastJson\n",
    "    user_follower_count = info['user']['follower_count']\n",
    "    return user_follower_count\n",
    "\n",
    "# ------------------------------------------------------------------------------------------------------------------------------------------------------------\n",
    "\n",
    "# Returns number of people that follow you\n",
    "def get_following_count(username):\n",
    "    api.searchUsername(username)\n",
    "    info = api.LastJson\n",
    "    user_following_count = info['user']['following_count']\n",
    "    return user_following_count\n",
    "\n",
    "# ------------------------------------------------------------------------------------------------------------------------------------------------------------\n",
    "\n",
    "# Returns number of people that follow you\n",
    "def get_tagged_count(username):\n",
    "    api.searchUsername(username)\n",
    "    info = api.LastJson\n",
    "    user_tagged_count = info['user']['usertags_count']\n",
    "    return user_tagged_count\n",
    "\n",
    "# ------------------------------------------------------------------------------------------------------------------------------------------------------------\n",
    "# Returns both following count and then follower count\n",
    "def get_both(username):\n",
    "    api.searchUsername(username)\n",
    "    info = api.LastJson\n",
    "    user_following_count = info['user']['following_count']\n",
    "    user_follower_count = info['user']['follower_count']\n",
    "    return user_following_count, user_follower_count\n",
    "\n",
    "# ------------------------------------------------------------------------------------------------------------------------------------------------------------\n",
    "\n",
    "# Returns list of people that follow more people than follow them\n",
    "def ratio_off():\n",
    "    following = [item['username'] for item in api.getTotalFollowings(get_ID(username))]\n",
    "    unfollow = []\n",
    "    for f in following:\n",
    "        user_following_count, user_follower_count = get_both(f)\n",
    "        if user_following_count - user_follower_count > 100:\n",
    "            unfollow.append(f)\n",
    "    return unfollow\n",
    "\n",
    "# ------------------------------------------------------------------------------------------------------------------------------------------------------------\n",
    "\n",
    "# Returns list of people that you follow that don't follow you\n",
    "def get_gap(username):\n",
    "    following = [item['username'] for item in api.getTotalFollowings(get_ID(username))]\n",
    "    followers = [item['username'] for item in api.getTotalFollowers(get_ID(username))]\n",
    "    gap = []\n",
    "    for f in following:\n",
    "        if search(followers, f) == False:\n",
    "            gap.append(f)\n",
    "    return gap\n",
    "\n",
    "# ------------------------------------------------------------------------------------------------------------------------------------------------------------\n",
    "\n",
    "# Returns list of users that liked the post of that index, 0 index is the latest post\n",
    "def get_likes_list(username, index):\n",
    "    likes_list = []\n",
    "    user_posts = api.getUserFeed(get_ID(username))\n",
    "    info = api.LastJson\n",
    "    media_id = info['items'][index]['id']\n",
    "    api.getMediaLikers(media_id)\n",
    "    f = api.LastJson['users']\n",
    "    for x in f:\n",
    "        likes_list.append(x['username'])\n",
    "    return likes_list\n",
    "\n",
    "# ------------------------------------------------------------------------------------------------------------------------------------------------------------\n",
    "\n",
    "# Returns list of users that didn't liked the post of that index, 0 index is the latest post\n",
    "def get_didnt_like_list(username, index):\n",
    "    following = [item['username'] for item in api.getTotalFollowings(get_ID(username))]\n",
    "    didnt_like = []\n",
    "    likes_list = get_likes_list(username, index)\n",
    "    for f in following:\n",
    "        if search(likes_list, f) == False:\n",
    "            didnt_like.append(f)\n",
    "    return didnt_like"
   ]
  },
  {
   "cell_type": "code",
   "execution_count": 3,
   "metadata": {},
   "outputs": [],
   "source": [
    "username = ''  #your username \n",
    "password = '' #your password"
   ]
  },
  {
   "cell_type": "code",
   "execution_count": 4,
   "metadata": {},
   "outputs": [
    {
     "name": "stdout",
     "output_type": "stream",
     "text": [
      "Request return 405 error!\n",
      "{'message': '', 'status': 'fail'}\n",
      "Request return 404 error!\n",
      "Login success!\n",
      "\n"
     ]
    },
    {
     "data": {
      "text/plain": [
       "True"
      ]
     },
     "execution_count": 4,
     "metadata": {},
     "output_type": "execute_result"
    }
   ],
   "source": [
    "api = InstagramAPI(username, password)\n",
    "api.login()"
   ]
  },
  {
   "cell_type": "code",
   "execution_count": 9,
   "metadata": {},
   "outputs": [
    {
     "name": "stdout",
     "output_type": "stream",
     "text": [
      "Request return 429 error!\n",
      "{'message': 'Please wait a few minutes before you try again.', 'status': 'fail'}\n"
     ]
    },
    {
     "ename": "KeyError",
     "evalue": "'user'",
     "output_type": "error",
     "traceback": [
      "\u001b[1;31m---------------------------------------------------------------------------\u001b[0m",
      "\u001b[1;31mKeyError\u001b[0m                                  Traceback (most recent call last)",
      "\u001b[1;32m<ipython-input-9-b2ffaf60ca5f>\u001b[0m in \u001b[0;36m<module>\u001b[1;34m\u001b[0m\n\u001b[0;32m      2\u001b[0m     \u001b[0mapi\u001b[0m\u001b[1;33m.\u001b[0m\u001b[0msearchUsername\u001b[0m\u001b[1;33m(\u001b[0m\u001b[0mi\u001b[0m\u001b[1;33m)\u001b[0m\u001b[1;33m\u001b[0m\u001b[1;33m\u001b[0m\u001b[0m\n\u001b[0;32m      3\u001b[0m     \u001b[0minfo\u001b[0m \u001b[1;33m=\u001b[0m \u001b[0mapi\u001b[0m\u001b[1;33m.\u001b[0m\u001b[0mLastJson\u001b[0m\u001b[1;33m\u001b[0m\u001b[1;33m\u001b[0m\u001b[0m\n\u001b[1;32m----> 4\u001b[1;33m     \u001b[1;32mif\u001b[0m \u001b[0minfo\u001b[0m\u001b[1;33m[\u001b[0m\u001b[1;34m'user'\u001b[0m\u001b[1;33m]\u001b[0m\u001b[1;33m[\u001b[0m\u001b[1;34m'is_private'\u001b[0m\u001b[1;33m]\u001b[0m \u001b[1;33m==\u001b[0m \u001b[1;32mFalse\u001b[0m\u001b[1;33m:\u001b[0m\u001b[1;33m\u001b[0m\u001b[1;33m\u001b[0m\u001b[0m\n\u001b[0m\u001b[0;32m      5\u001b[0m         \u001b[0mfollowing1\u001b[0m \u001b[1;33m=\u001b[0m \u001b[1;33m[\u001b[0m\u001b[0mitem\u001b[0m\u001b[1;33m[\u001b[0m\u001b[1;34m'username'\u001b[0m\u001b[1;33m]\u001b[0m \u001b[1;32mfor\u001b[0m \u001b[0mitem\u001b[0m \u001b[1;32min\u001b[0m \u001b[0mapi\u001b[0m\u001b[1;33m.\u001b[0m\u001b[0mgetTotalFollowings\u001b[0m\u001b[1;33m(\u001b[0m\u001b[0mget_ID\u001b[0m\u001b[1;33m(\u001b[0m\u001b[0mi\u001b[0m\u001b[1;33m)\u001b[0m\u001b[1;33m)\u001b[0m\u001b[1;33m]\u001b[0m\u001b[1;33m\u001b[0m\u001b[1;33m\u001b[0m\u001b[0m\n\u001b[0;32m      6\u001b[0m         \u001b[1;32mif\u001b[0m \u001b[0msearch\u001b[0m\u001b[1;33m(\u001b[0m\u001b[0mfollowing\u001b[0m\u001b[1;33m,\u001b[0m \u001b[1;34m'archanavada'\u001b[0m\u001b[1;33m)\u001b[0m \u001b[1;33m==\u001b[0m \u001b[1;32mTrue\u001b[0m\u001b[1;33m:\u001b[0m\u001b[1;33m\u001b[0m\u001b[1;33m\u001b[0m\u001b[0m\n",
      "\u001b[1;31mKeyError\u001b[0m: 'user'"
     ]
    }
   ],
   "source": [
    "# NOT WORKING YET\n",
    "# How to get list of people that follow a certain person in following (person has to be public)\n",
    "def mutuals():\n",
    "    follow = []\n",
    "    for i in following:\n",
    "        api.searchUsername(i)\n",
    "        info = api.LastJson\n",
    "        if info['user']['is_private'] == False: \n",
    "            following1 = [item['username'] for item in api.getTotalFollowings(get_ID(i))]\n",
    "            if search(following1, '__________') == True:\n",
    "                print(i)\n",
    "                follow.append(i)\n",
    "    return follow"
   ]
  },
  {
   "cell_type": "code",
   "execution_count": null,
   "metadata": {},
   "outputs": [],
   "source": []
  },
  {
   "cell_type": "code",
   "execution_count": null,
   "metadata": {},
   "outputs": [],
   "source": []
  }
 ],
 "metadata": {
  "kernelspec": {
   "display_name": "Python 3",
   "language": "python",
   "name": "python3"
  },
  "language_info": {
   "codemirror_mode": {
    "name": "ipython",
    "version": 3
   },
   "file_extension": ".py",
   "mimetype": "text/x-python",
   "name": "python",
   "nbconvert_exporter": "python",
   "pygments_lexer": "ipython3",
   "version": "3.7.3"
  }
 },
 "nbformat": 4,
 "nbformat_minor": 2
}
